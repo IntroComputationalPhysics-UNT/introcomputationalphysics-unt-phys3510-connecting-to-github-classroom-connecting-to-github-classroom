{
  "nbformat": 4,
  "nbformat_minor": 0,
  "metadata": {
    "colab": {
      "provenance": [],
      "authorship_tag": "ABX9TyOgfTY9xP9I/nk9efXmgHGH",
      "include_colab_link": true
    },
    "kernelspec": {
      "name": "python3",
      "display_name": "Python 3"
    },
    "language_info": {
      "name": "python"
    }
  },
  "cells": [
    {
      "cell_type": "markdown",
      "metadata": {
        "id": "view-in-github",
        "colab_type": "text"
      },
      "source": [
        "<a href=\"https://colab.research.google.com/github/IntroComputationalPhysics-UNT/connecting-to-github-classroom-nworbehc/blob/main/wrong_cheerleader.ipynb\" target=\"_parent\"><img src=\"https://colab.research.google.com/assets/colab-badge.svg\" alt=\"Open In Colab\"/></a>"
      ]
    },
    {
      "cell_type": "code",
      "execution_count": 23,
      "metadata": {
        "colab": {
          "base_uri": "https://localhost:8080/",
          "height": 853
        },
        "id": "IJbTd0IGMBSg",
        "outputId": "975d86ac-df89-40fd-929b-69066535545a"
      },
      "outputs": [
        {
          "output_type": "stream",
          "name": "stdout",
          "text": [
            "What is your name?Daniel J Salazar\n",
            "\n",
            "Give me a D !\n",
            "\n",
            "D!\n",
            "\n",
            "Give me a A !\n",
            "\n",
            "A!\n",
            "\n",
            "Give me a N !\n",
            "\n",
            "N!\n",
            "\n",
            "Give me a I !\n",
            "\n",
            "I!\n",
            "\n",
            "Give me a E !\n",
            "\n",
            "E!\n",
            "\n",
            "Give me a L !\n",
            "\n",
            "L!\n",
            "\n",
            "Give me a J !\n",
            "\n",
            "J!\n",
            "\n",
            "Give me a S !\n",
            "\n",
            "S!\n",
            "\n",
            "Give me a S !\n",
            "\n",
            "What??\n"
          ]
        },
        {
          "output_type": "error",
          "ename": "TypeError",
          "evalue": "'str' object does not support item assignment",
          "traceback": [
            "\u001b[0;31m---------------------------------------------------------------------------\u001b[0m",
            "\u001b[0;31mTypeError\u001b[0m                                 Traceback (most recent call last)",
            "\u001b[0;32m/tmp/ipython-input-2652374521.py\u001b[0m in \u001b[0;36m<cell line: 0>\u001b[0;34m()\u001b[0m\n\u001b[1;32m     21\u001b[0m     \u001b[0mprint\u001b[0m\u001b[0;34m(\u001b[0m\u001b[0;34m\"\\nWhat??\"\u001b[0m\u001b[0;34m)\u001b[0m\u001b[0;34m\u001b[0m\u001b[0;34m\u001b[0m\u001b[0m\n\u001b[1;32m     22\u001b[0m     \u001b[0msleep\u001b[0m\u001b[0;34m(\u001b[0m\u001b[0;36m0.25\u001b[0m\u001b[0;34m)\u001b[0m\u001b[0;34m\u001b[0m\u001b[0;34m\u001b[0m\u001b[0m\n\u001b[0;32m---> 23\u001b[0;31m     \u001b[0muppername\u001b[0m\u001b[0;34m[\u001b[0m\u001b[0mchar\u001b[0m\u001b[0;34m]\u001b[0m\u001b[0;34m=\u001b[0m\u001b[0mrandomletter\u001b[0m\u001b[0;34m[\u001b[0m\u001b[0;36m0\u001b[0m\u001b[0;34m]\u001b[0m\u001b[0;34m\u001b[0m\u001b[0;34m\u001b[0m\u001b[0m\n\u001b[0m\u001b[1;32m     24\u001b[0m   \u001b[0;32mif\u001b[0m \u001b[0mchar\u001b[0m\u001b[0;34m!=\u001b[0m\u001b[0mrandomnum\u001b[0m\u001b[0;34m:\u001b[0m\u001b[0;34m\u001b[0m\u001b[0;34m\u001b[0m\u001b[0m\n\u001b[1;32m     25\u001b[0m     \u001b[0mprint\u001b[0m\u001b[0;34m(\u001b[0m\u001b[0;34m\"\\nGive me a\"\u001b[0m\u001b[0;34m,\u001b[0m\u001b[0muppername\u001b[0m\u001b[0;34m[\u001b[0m\u001b[0mchar\u001b[0m\u001b[0;34m]\u001b[0m\u001b[0;34m,\u001b[0m\u001b[0;34m\"!\"\u001b[0m\u001b[0;34m)\u001b[0m\u001b[0;34m\u001b[0m\u001b[0;34m\u001b[0m\u001b[0m\n",
            "\u001b[0;31mTypeError\u001b[0m: 'str' object does not support item assignment"
          ]
        }
      ],
      "source": [
        "from random import randint,choice\n",
        "from time import sleep\n",
        "\n",
        "name=input(\"What is your name?\")  #user input\n",
        "\n",
        "nospacename=name.replace(\" \",\"\")  #defined variables\n",
        "uppername=nospacename.upper()\n",
        "letters=[\"A\",\"B\",\"C\",\"D\",\"E\",\"F\",\n",
        "         \"G\",\"H\",\"I\",\"J\",\"K\",\"L\",\n",
        "         \"M\",\"N\",\"O\",\"P\",\"Q\",\"R\",\n",
        "         \"S\",\"T\",\"U\",\"V\",\"W\",\"X\",\"Y\",\"Z\"]\n",
        "randomletter=choice(letters)\n",
        "namelength=len(uppername)\n",
        "randomnum=randint(1,namelength)\n",
        "letters[randomnum]=\"X\"\n",
        "\n",
        "for char in range(namelength):  #main loop\n",
        "  if char==randomnum:\n",
        "    print(\"\\nGive me a\",randomletter[0],\"!\")\n",
        "    sleep(0.25)\n",
        "    print(\"\\nWhat??\")\n",
        "    sleep(0.25)\n",
        "  if char!=randomnum:\n",
        "    print(\"\\nGive me a\",uppername[char],\"!\")\n",
        "    sleep(0.25)\n",
        "    print(\"\\n\"+uppername[char]+\"!\")\n",
        "    sleep(0.25)\n",
        "\n",
        "print(\"\\n\"+name+\"!\")"
      ]
    }
  ]
}